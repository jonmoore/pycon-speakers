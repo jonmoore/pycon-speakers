{
 "metadata": {
  "name": "",
  "signature": "sha256:9093627e1c721281bb17c7a629781a58fa400b3832ea88ef99c660330fc1ab21"
 },
 "nbformat": 3,
 "nbformat_minor": 0,
 "worksheets": [
  {
   "cells": [
    {
     "cell_type": "heading",
     "level": 1,
     "metadata": {},
     "source": [
      "Speakers Spider (PyCon 2014 sprint)"
     ]
    },
    {
     "cell_type": "markdown",
     "metadata": {},
     "source": [
      "This is a projct for gender analysis of conference speakers over time. We implemented multiple spiders using <a href=\"https://github.com/scrapy/scrapy\">Scrapy</a> package for scraping speaker names from conference websites and used combination of <a href=\"https://pypi.python.org/pypi/SexMachine/\">SexMachine</a> package and <a href = \"http://genderize.io/\">Genderize.io</a> for inferring gender.\n",
      "\n",
      "Lets first load the data to see what information we have collected so far:"
     ]
    },
    {
     "cell_type": "code",
     "collapsed": false,
     "input": [
      "import numpy as np\n",
      "import pandas as pd\n",
      "import matplotlib.pyplot as plt\n",
      "%matplotlib inline\n",
      "\n",
      "import seaborn as sns\n",
      "sns.set_palette(\"deep\", desat=.6)\n",
      "sns.set_context(rc={\"figure.figsize\": (11, 6)})\n",
      "\n",
      "import matplotlib as mpl\n",
      "mpl.rcParams['font.sans-serif'].insert(0, 'Arial')\n",
      "mpl.rcParams['font.sans-serif'].insert(0, 'Liberation Sans')\n",
      "mpl.rcParams['font.family'] = 'sans-serif'"
     ],
     "language": "python",
     "metadata": {},
     "outputs": [],
     "prompt_number": 47
    },
    {
     "cell_type": "code",
     "collapsed": false,
     "input": [
      "df = pd.read_csv('./ndata.csv')"
     ],
     "language": "python",
     "metadata": {},
     "outputs": [],
     "prompt_number": 137
    },
    {
     "cell_type": "markdown",
     "metadata": {},
     "source": [
      "Lets see how many conferences we scrapped."
     ]
    },
    {
     "cell_type": "code",
     "collapsed": false,
     "input": [
      "df['conference'].unique().size"
     ],
     "language": "python",
     "metadata": {},
     "outputs": [
      {
       "metadata": {},
       "output_type": "pyout",
       "prompt_number": 138,
       "text": [
        "133"
       ]
      }
     ],
     "prompt_number": 138
    },
    {
     "cell_type": "markdown",
     "metadata": {},
     "source": [
      "This means that we have 133 unique conferences scrapied. Now lets see how many unique (conference, year) pairs we have"
     ]
    },
    {
     "cell_type": "code",
     "collapsed": false,
     "input": [
      "conf_year = df.groupby(['conference', 'year'])\n",
      "len(conf_year)"
     ],
     "language": "python",
     "metadata": {},
     "outputs": [
      {
       "metadata": {},
       "output_type": "pyout",
       "prompt_number": 139,
       "text": [
        "262"
       ]
      }
     ],
     "prompt_number": 139
    },
    {
     "cell_type": "markdown",
     "metadata": {},
     "source": [
      "So we have 262 conference, year pairs. In average 2 years data for a conference. \n",
      "\n",
      "Now lets see what data we have for speakers gender. There are around 1000 names which are marked as 'andy' which means that the gender for those cannot be identified. We are going to ignore those names as we can assume that gender distrubution among unidentified names should be the same as in identified ones. In other words we assum that there is no reason for the gender prediction to work better or worse for the certain gender of names. \n",
      "\n",
      "There are also names marked as mostly_male, mostly_female. We could merged them with the male, female classes but for now are going to ignore those ones as well."
     ]
    },
    {
     "cell_type": "code",
     "collapsed": false,
     "input": [
      "df['gender'].describe()"
     ],
     "language": "python",
     "metadata": {},
     "outputs": [
      {
       "metadata": {},
       "output_type": "pyout",
       "prompt_number": 140,
       "text": [
        "count     12234\n",
        "unique        5\n",
        "top        male\n",
        "freq       9854\n",
        "Name: gender, dtype: object"
       ]
      }
     ],
     "prompt_number": 140
    },
    {
     "cell_type": "code",
     "collapsed": false,
     "input": [
      "df['gender'].value_counts()"
     ],
     "language": "python",
     "metadata": {},
     "outputs": [
      {
       "metadata": {},
       "output_type": "pyout",
       "prompt_number": 141,
       "text": [
        "male             9854\n",
        "female           1094\n",
        "mostly_male       577\n",
        "andy              563\n",
        "mostly_female     146\n",
        "dtype: int64"
       ]
      }
     ],
     "prompt_number": 141
    },
    {
     "cell_type": "code",
     "collapsed": false,
     "input": [
      "# take only male and female, ignore the rest\n",
      "df = df[(df.gender == 'male') | (df.gender == 'female')]\n",
      "df['gender'].value_counts()"
     ],
     "language": "python",
     "metadata": {},
     "outputs": [
      {
       "metadata": {},
       "output_type": "pyout",
       "prompt_number": 142,
       "text": [
        "male      9854\n",
        "female    1094\n",
        "dtype: int64"
       ]
      }
     ],
     "prompt_number": 142
    },
    {
     "cell_type": "heading",
     "level": 2,
     "metadata": {},
     "source": [
      "The Overall Gender Frequency"
     ]
    },
    {
     "cell_type": "markdown",
     "metadata": {},
     "source": [
      "Now when we have our data prepared lets plot the data to visually see whats going on."
     ]
    },
    {
     "cell_type": "code",
     "collapsed": false,
     "input": [
      "gender_plot= df['gender'].value_counts().plot(kind = 'bar', title = 'Overall gender frequency in the collected data')\n",
      "plt.savefig('gender_plot.png',  bbox_inches='tight')"
     ],
     "language": "python",
     "metadata": {},
     "outputs": [
      {
       "metadata": {},
       "output_type": "display_data",
       "png": "[encoded data removed]",
       "text": [
        "<matplotlib.figure.Figure at 0xbfff28c>"
       ]
      }
     ],
     "prompt_number": 143
    },
    {
     "cell_type": "heading",
     "level": 2,
     "metadata": {},
     "source": [
      "Gender per Year"
     ]
    },
    {
     "cell_type": "markdown",
     "metadata": {},
     "source": [
      "By using pandas magical functionality we can calculate frequency table of genders per year and then plot it."
     ]
    },
    {
     "cell_type": "code",
     "collapsed": false,
     "input": [
      "per_year = pd.crosstab(df['year'], df['gender'])\n",
      "per_year"
     ],
     "language": "python",
     "metadata": {},
     "outputs": [
      {
       "html": [
        "<div style=\"max-height:1000px;max-width:1500px;overflow:auto;\">\n",
        "<table border=\"1\" class=\"dataframe\">\n",
        "  <thead>\n",
        "    <tr style=\"text-align: right;\">\n",
        "      <th>gender</th>\n",
        "      <th>female</th>\n",
        "      <th>male</th>\n",
        "    </tr>\n",
        "    <tr>\n",
        "      <th>year</th>\n",
        "      <th></th>\n",
        "      <th></th>\n",
        "    </tr>\n",
        "  </thead>\n",
        "  <tbody>\n",
        "    <tr>\n",
        "      <th>2001</th>\n",
        "      <td>  10</td>\n",
        "      <td>  236</td>\n",
        "    </tr>\n",
        "    <tr>\n",
        "      <th>2002</th>\n",
        "      <td>  11</td>\n",
        "      <td>  156</td>\n",
        "    </tr>\n",
        "    <tr>\n",
        "      <th>2003</th>\n",
        "      <td>  20</td>\n",
        "      <td>  142</td>\n",
        "    </tr>\n",
        "    <tr>\n",
        "      <th>2004</th>\n",
        "      <td>  11</td>\n",
        "      <td>  184</td>\n",
        "    </tr>\n",
        "    <tr>\n",
        "      <th>2005</th>\n",
        "      <td>  17</td>\n",
        "      <td>  205</td>\n",
        "    </tr>\n",
        "    <tr>\n",
        "      <th>2006</th>\n",
        "      <td>   8</td>\n",
        "      <td>  201</td>\n",
        "    </tr>\n",
        "    <tr>\n",
        "      <th>2007</th>\n",
        "      <td>  25</td>\n",
        "      <td>  324</td>\n",
        "    </tr>\n",
        "    <tr>\n",
        "      <th>2008</th>\n",
        "      <td>  30</td>\n",
        "      <td>  444</td>\n",
        "    </tr>\n",
        "    <tr>\n",
        "      <th>2009</th>\n",
        "      <td>  38</td>\n",
        "      <td>  538</td>\n",
        "    </tr>\n",
        "    <tr>\n",
        "      <th>2010</th>\n",
        "      <td>  64</td>\n",
        "      <td>  777</td>\n",
        "    </tr>\n",
        "    <tr>\n",
        "      <th>2011</th>\n",
        "      <td>  95</td>\n",
        "      <td> 1154</td>\n",
        "    </tr>\n",
        "    <tr>\n",
        "      <th>2012</th>\n",
        "      <td> 244</td>\n",
        "      <td> 2518</td>\n",
        "    </tr>\n",
        "    <tr>\n",
        "      <th>2013</th>\n",
        "      <td> 371</td>\n",
        "      <td> 2001</td>\n",
        "    </tr>\n",
        "    <tr>\n",
        "      <th>2014</th>\n",
        "      <td> 150</td>\n",
        "      <td>  974</td>\n",
        "    </tr>\n",
        "  </tbody>\n",
        "</table>\n",
        "<p>14 rows \u00d7 2 columns</p>\n",
        "</div>"
       ],
       "metadata": {},
       "output_type": "pyout",
       "prompt_number": 144,
       "text": [
        "gender  female  male\n",
        "year                \n",
        "2001        10   236\n",
        "2002        11   156\n",
        "2003        20   142\n",
        "2004        11   184\n",
        "2005        17   205\n",
        "2006         8   201\n",
        "2007        25   324\n",
        "2008        30   444\n",
        "2009        38   538\n",
        "2010        64   777\n",
        "2011        95  1154\n",
        "2012       244  2518\n",
        "2013       371  2001\n",
        "2014       150   974\n",
        "\n",
        "[14 rows x 2 columns]"
       ]
      }
     ],
     "prompt_number": 144
    },
    {
     "cell_type": "code",
     "collapsed": false,
     "input": [
      "per_ear_plot = per_year.plot(kind='bar', stacked=True, title=\"Gender per year\")\n",
      "plt.savefig(r'gender_per_year.png', bbox_inches='tight')"
     ],
     "language": "python",
     "metadata": {},
     "outputs": [
      {
       "metadata": {},
       "output_type": "display_data",
       "png": "[encoded data removed]",
       "text": [
        "<matplotlib.figure.Figure at 0xc0d0dec>"
       ]
      }
     ],
     "prompt_number": 145
    },
    {
     "cell_type": "markdown",
     "metadata": {},
     "source": [
      "but this does not show proportions for that we can normalize data per year to get percentages for male/female"
     ]
    },
    {
     "cell_type": "code",
     "collapsed": false,
     "input": [
      "per_year_perc = per_year.div(per_year.sum(axis = 1), axis = 0)"
     ],
     "language": "python",
     "metadata": {},
     "outputs": [],
     "prompt_number": 146
    },
    {
     "cell_type": "code",
     "collapsed": false,
     "input": [
      "per_ear_plot = per_year_perc.plot(kind='bar', stacked=True, title=\"Gender frequency per year\")\n",
      "plt.savefig(r'gender_freq_per_year.png', bbox_inches='tight')"
     ],
     "language": "python",
     "metadata": {},
     "outputs": [
      {
       "metadata": {},
       "output_type": "display_data",
       "png": "[encoded data removed]",
       "text": [
        "<matplotlib.figure.Figure at 0xbfff96c>"
       ]
      }
     ],
     "prompt_number": 147
    },
    {
     "cell_type": "markdown",
     "metadata": {},
     "source": [
      "As we can see percentage of women speakers is always below 20%. \n",
      "\n",
      "It would be interesting to see if there is any conference where percentage of women speakers is 20% or above."
     ]
    },
    {
     "cell_type": "code",
     "collapsed": false,
     "input": [
      "conf_year = df.groupby(['conference', 'year'])\n",
      "conf_year['gender'].value_counts(normalize = True).to_dict()"
     ],
     "language": "python",
     "metadata": {},
     "outputs": [
      {
       "metadata": {},
       "output_type": "pyout",
       "prompt_number": 160,
       "text": [
        "{('Acts as Conference', 2009L, 'male'): 1.0,\n",
        " ('Adhearsion Conf', 2011L, 'male'): 1.0,\n",
        " ('Adhearsion Conf', 2012L, 'male'): 1.0,\n",
        " ('Agile Roots', 2009L, 'female'): 0.15789473684210525,\n",
        " ('Agile Roots', 2009L, 'male'): 0.84210526315789469,\n",
        " ('Agile Roots', 2010L, 'female'): 0.21212121212121213,\n",
        " ('Agile Roots', 2010L, 'male'): 0.78787878787878785,\n",
        " ('Airbnb Tech Talks', 2012L, 'female'): 0.125,\n",
        " ('Airbnb Tech Talks', 2012L, 'male'): 0.875,\n",
        " ('Aloha Ruby Conf', 2012L, 'female'): 0.045454545454545456,\n",
        " ('Aloha Ruby Conf', 2012L, 'male'): 0.95454545454545459,\n",
        " ('AltDevConf', 2012L, 'female'): 0.16666666666666666,\n",
        " ('AltDevConf', 2012L, 'male'): 0.83333333333333337,\n",
        " ('Ancient City Ruby', 2013L, 'female'): 0.10000000000000001,\n",
        " ('Ancient City Ruby', 2013L, 'male'): 0.90000000000000002,\n",
        " ('ArrrrCamp', 2010L, 'female'): 0.14285714285714285,\n",
        " ('ArrrrCamp', 2010L, 'male'): 0.8571428571428571,\n",
        " ('ArrrrCamp', 2011L, 'female'): 0.15384615384615385,\n",
        " ('ArrrrCamp', 2011L, 'male'): 0.84615384615384615,\n",
        " ('ArrrrCamp', 2012L, 'female'): 0.045454545454545456,\n",
        " ('ArrrrCamp', 2012L, 'male'): 0.95454545454545459,\n",
        " ('ArrrrCamp', 2013L, 'female'): 0.052631578947368418,\n",
        " ('ArrrrCamp', 2013L, 'male'): 0.94736842105263153,\n",
        " ('Barcelona Ruby Conference', 2012L, 'female'): 0.0625,\n",
        " ('Barcelona Ruby Conference', 2012L, 'male'): 0.9375,\n",
        " ('Big Ruby', 2013L, 'female'): 0.071428571428571425,\n",
        " ('Big Ruby', 2013L, 'male'): 0.9285714285714286,\n",
        " ('Big Ruby', 2014L, 'female'): 0.26666666666666666,\n",
        " ('Big Ruby', 2014L, 'male'): 0.73333333333333328,\n",
        " ('Burlington Ruby', 2013L, 'female'): 0.16666666666666666,\n",
        " ('Burlington Ruby', 2013L, 'male'): 0.83333333333333337,\n",
        " ('Canadian University Software Engineering Conference',\n",
        "  2013L,\n",
        "  'female'): 0.23529411764705882,\n",
        " ('Canadian University Software Engineering Conference',\n",
        "  2013L,\n",
        "  'male'): 0.76470588235294112,\n",
        " ('Cascadia Ruby', 2011L, 'male'): 1.0,\n",
        " ('Cascadia Ruby', 2012L, 'female'): 0.35294117647058826,\n",
        " ('Cascadia Ruby', 2012L, 'male'): 0.6470588235294118,\n",
        " ('Cascadia Ruby', 2013L, 'female'): 0.2857142857142857,\n",
        " ('Cascadia Ruby', 2013L, 'male'): 0.7142857142857143,\n",
        " ('Chef Conf', 2012L, 'female'): 0.030303030303030304,\n",
        " ('Chef Conf', 2012L, 'male'): 0.96969696969696972,\n",
        " ('ChiPy', 2010L, 'male'): 1.0,\n",
        " ('ChiPy', 2012L, 'male'): 1.0,\n",
        " ('ChiPy', 2013L, 'female'): 0.11764705882352941,\n",
        " ('ChiPy', 2013L, 'male'): 0.88235294117647056,\n",
        " ('ChiPy', 2014L, 'male'): 1.0,\n",
        " ('Chicago Djangonauts', 2011L, 'male'): 1.0,\n",
        " ('Chicago Djangonauts', 2012L, 'male'): 1.0,\n",
        " ('Chicago Djangonauts', 2013L, 'male'): 1.0,\n",
        " ('Chicago Erlang User Group', 2012L, 'male'): 1.0,\n",
        " ('Chicago Erlang User Group', 2013L, 'male'): 1.0,\n",
        " ('Chicago Freelancers', 2013L, 'male'): 1.0,\n",
        " ('Chicago Web Conf', 2012L, 'female'): 0.25,\n",
        " ('Chicago Web Conf', 2012L, 'male'): 0.75,\n",
        " ('ChicagoLUG', 2013L, 'male'): 1.0,\n",
        " ('Continuum', 2013L, 'female'): 0.088235294117647065,\n",
        " ('Continuum', 2013L, 'male'): 0.91176470588235292,\n",
        " ('Copenhagen JS', 2012L, 'male'): 1.0,\n",
        " ('DevCon5', 2012L, 'male'): 1.0,\n",
        " ('DevconTLV Feb', 2013L, 'male'): 1.0,\n",
        " ('DevconTLV January', 2014L, 'male'): 1.0,\n",
        " ('DevconTLV June', 2013L, 'male'): 1.0,\n",
        " ('DevconTLV October', 2013L, 'male'): 1.0,\n",
        " ('DjangoCon', 2009L, 'male'): 1.0,\n",
        " ('DjangoCon', 2010L, 'male'): 1.0,\n",
        " ('DjangoCon', 2011L, 'male'): 1.0,\n",
        " ('DjangoCon', 2012L, 'male'): 1.0,\n",
        " ('DjangoCon AU', 2013L, 'male'): 1.0,\n",
        " ('Ember Conf', 2014L, 'female'): 0.20000000000000001,\n",
        " ('Ember Conf', 2014L, 'male'): 0.80000000000000004,\n",
        " ('Emerging Languages Camp', 2010L, 'female'): 0.16666666666666666,\n",
        " ('Emerging Languages Camp', 2010L, 'male'): 0.83333333333333337,\n",
        " ('Enthought', 2012L, 'female'): 0.025974025974025976,\n",
        " ('Enthought', 2012L, 'male'): 0.97402597402597402,\n",
        " ('Eric', 2013L, 'female'): 0.48148148148148145,\n",
        " ('Eric', 2013L, 'male'): 0.51851851851851849,\n",
        " ('Erlang DC', 2013L, 'female'): 0.076923076923076927,\n",
        " ('Erlang DC', 2013L, 'male'): 0.92307692307692313,\n",
        " ('Erlang Factory', 2013L, 'female'): 0.090909090909090912,\n",
        " ('Erlang Factory', 2013L, 'male'): 0.90909090909090906,\n",
        " ('Erlang Factory Lite Krakow, Poland', 2012L, 'male'): 1.0,\n",
        " ('Erlang Factory Lite Moscow, Russia', 2012L, 'male'): 1.0,\n",
        " ('Erlang Factory SF Bay Area', 2012L, 'female'): 0.018518518518518517,\n",
        " ('Erlang Factory SF Bay Area', 2012L, 'male'): 0.98148148148148151,\n",
        " ('Euro Clojure', 2012L, 'male'): 1.0,\n",
        " ('EuroPython', 2006L, 'male'): 1.0,\n",
        " ('EuroPython', 2008L, 'male'): 1.0,\n",
        " ('EuroPython', 2009L, 'male'): 1.0,\n",
        " ('EuroPython', 2010L, 'female'): 0.11764705882352941,\n",
        " ('EuroPython', 2010L, 'male'): 0.88235294117647056,\n",
        " ('EuroPython', 2011L, 'female'): 0.095652173913043481,\n",
        " ('EuroPython', 2011L, 'male'): 0.90434782608695652,\n",
        " ('EuroPython', 2012L, 'female'): 0.078260869565217397,\n",
        " ('EuroPython', 2012L, 'male'): 0.92173913043478262,\n",
        " ('EuroPython', 2013L, 'female'): 0.076190476190476197,\n",
        " ('EuroPython', 2013L, 'male'): 0.92380952380952386,\n",
        " ('EuroSciPy', 2008L, 'male'): 1.0,\n",
        " ('EuroSciPy', 2009L, 'female'): 0.066666666666666666,\n",
        " ('EuroSciPy', 2009L, 'male'): 0.93333333333333335,\n",
        " ('EuroSciPy', 2010L, 'female'): 0.05128205128205128,\n",
        " ('EuroSciPy', 2010L, 'male'): 0.94871794871794868,\n",
        " ('EuroSciPy', 2011L, 'female'): 0.042553191489361701,\n",
        " ('EuroSciPy', 2011L, 'male'): 0.95744680851063835,\n",
        " ('EuroSciPy', 2012L, 'female'): 0.035714285714285712,\n",
        " ('EuroSciPy', 2012L, 'male'): 0.9642857142857143,\n",
        " ('Farmhouse Conf', 2011L, 'female'): 0.54545454545454541,\n",
        " ('Farmhouse Conf', 2011L, 'male'): 0.45454545454545453,\n",
        " ('Flourish', 2012L, 'female'): 0.18181818181818182,\n",
        " ('Flourish', 2012L, 'male'): 0.81818181818181823,\n",
        " ('Fosdem', 2012L, 'female'): 0.072289156626506021,\n",
        " ('Fosdem', 2012L, 'male'): 0.92771084337349397,\n",
        " ('Fosdem', 2014L, 'female'): 0.055555555555555552,\n",
        " ('Fosdem', 2014L, 'male'): 0.94444444444444442,\n",
        " ('FreeGeek Chicago', 2012L, 'female'): 0.38461538461538464,\n",
        " ('FreeGeek Chicago', 2012L, 'male'): 0.61538461538461542,\n",
        " ('FreeGeek Chicago', 2013L, 'female'): 0.33333333333333331,\n",
        " ('FreeGeek Chicago', 2013L, 'male'): 0.66666666666666663,\n",
        " ('Fronteers', 2010L, 'female'): 0.17647058823529413,\n",
        " ('Fronteers', 2010L, 'male'): 0.82352941176470584,\n",
        " ('Fronteers', 2011L, 'female'): 0.15384615384615385,\n",
        " ('Fronteers', 2011L, 'male'): 0.84615384615384615,\n",
        " ('Fronteers', 2012L, 'female'): 0.125,\n",
        " ('Fronteers', 2012L, 'male'): 0.875,\n",
        " ('Fronteers', 2013L, 'female'): 0.17647058823529413,\n",
        " ('Fronteers', 2013L, 'male'): 0.82352941176470584,\n",
        " ('GORUCO', 2008L, 'male'): 1.0,\n",
        " ('GORUCO', 2009L, 'female'): 0.14285714285714285,\n",
        " ('GORUCO', 2009L, 'male'): 0.8571428571428571,\n",
        " ('GORUCO', 2012L, 'female'): 0.076923076923076927,\n",
        " ('GORUCO', 2012L, 'male'): 0.92307692307692313,\n",
        " ('GORUCO', 2013L, 'female'): 0.25,\n",
        " ('GORUCO', 2013L, 'male'): 0.75,\n",
        " ('Garden City Ruby', 2014L, 'female'): 0.21428571428571427,\n",
        " ('Garden City Ruby', 2014L, 'male'): 0.7857142857142857,\n",
        " ('Golden Gate Ruby Conference', 2009L, 'male'): 1.0,\n",
        " ('Golden Gate Ruby Conference', 2010L, 'female'): 0.23076923076923078,\n",
        " ('Golden Gate Ruby Conference', 2010L, 'male'): 0.76923076923076927,\n",
        " ('Golden Gate Ruby Conference', 2011L, 'female'): 0.076923076923076927,\n",
        " ('Golden Gate Ruby Conference', 2011L, 'male'): 0.92307692307692313,\n",
        " ('Golden Gate Ruby Conference', 2012L, 'female'): 0.22222222222222221,\n",
        " ('Golden Gate Ruby Conference', 2012L, 'male'): 0.77777777777777779,\n",
        " ('Golden Gate Ruby Conference', 2013L, 'female'): 0.21052631578947367,\n",
        " ('Golden Gate Ruby Conference', 2013L, 'male'): 0.78947368421052633,\n",
        " ('HTML 5.tx', 2013L, 'female'): 0.16666666666666666,\n",
        " ('HTML 5.tx', 2013L, 'male'): 0.83333333333333337,\n",
        " ('Ictev', 2013L, 'female'): 0.45070422535211269,\n",
        " ('Ictev', 2013L, 'male'): 0.54929577464788737,\n",
        " ('Ignite Buffalo', 2013L, 'female'): 0.20000000000000001,\n",
        " ('Ignite Buffalo', 2013L, 'male'): 0.80000000000000004,\n",
        " ('Ignite RailsConf', 2012L, 'male'): 1.0,\n",
        " ('International Conference on Functional Programming', 2012L, 'male'): 1.0,\n",
        " ('JRuby Conference', 2009L, 'male'): 1.0,\n",
        " ('JSConf', 2011L, 'male'): 1.0,\n",
        " ('JSConf', 2012L, 'female'): 0.20454545454545456,\n",
        " ('JSConf', 2012L, 'male'): 0.79545454545454541,\n",
        " ('JSConf EU', 2013L, 'female'): 0.22448979591836735,\n",
        " ('JSConf EU', 2013L, 'male'): 0.77551020408163263,\n",
        " ('Jax Conf', 2012L, 'male'): 1.0,\n",
        " ('Jenkins User Conference San Francisco', 2012L, 'male'): 1.0,\n",
        " ('Kiwi PyCon', 2013L, 'male'): 1.0,\n",
        " ('Kk', 2012L, 'female'): 0.14705882352941177,\n",
        " ('Kk', 2012L, 'male'): 0.8529411764705882,\n",
        " ('Kod.io', 2014L, 'female'): 0.23529411764705882,\n",
        " ('Kod.io', 2014L, 'male'): 0.76470588235294112,\n",
        " ('LA Ruby Conference', 2009L, 'male'): 1.0,\n",
        " ('LA Ruby Conference', 2010L, 'female'): 0.20000000000000001,\n",
        " ('LA Ruby Conference', 2010L, 'male'): 0.80000000000000004,\n",
        " ('LA Ruby Conference', 2011L, 'male'): 1.0,\n",
        " ('LA Ruby Conference', 2012L, 'male'): 1.0,\n",
        " ('LA Ruby Conference', 2013L, 'female'): 0.125,\n",
        " ('LA Ruby Conference', 2013L, 'male'): 0.875,\n",
        " ('LA Ruby Conference', 2014L, 'female'): 0.10000000000000001,\n",
        " ('LA Ruby Conference', 2014L, 'male'): 0.90000000000000002,\n",
        " ('LXJS', 2012L, 'female'): 0.034482758620689655,\n",
        " ('LXJS', 2012L, 'male'): 0.96551724137931039,\n",
        " ('La', 2012L, 'female'): 0.19444444444444445,\n",
        " ('La', 2012L, 'male'): 0.80555555555555558,\n",
        " ('Lca', 2013L, 'female'): 0.096385542168674704,\n",
        " ('Lca', 2013L, 'male'): 0.90361445783132532,\n",
        " ('Lone Star Ruby Conference', 2009L, 'female'): 0.11764705882352941,\n",
        " ('Lone Star Ruby Conference', 2009L, 'male'): 0.88235294117647056,\n",
        " ('Lone Star Ruby Conference', 2010L, 'female'): 0.076923076923076927,\n",
        " ('Lone Star Ruby Conference', 2010L, 'male'): 0.92307692307692313,\n",
        " ('Lone Star Ruby Conference', 2011L, 'female'): 0.064516129032258063,\n",
        " ('Lone Star Ruby Conference', 2011L, 'male'): 0.93548387096774188,\n",
        " ('Lone Star Ruby Conference', 2013L, 'female'): 0.15384615384615385,\n",
        " ('Lone Star Ruby Conference', 2013L, 'male'): 0.84615384615384615,\n",
        " ('Madison Ruby', 2011L, 'female'): 0.125,\n",
        " ('Madison Ruby', 2011L, 'male'): 0.875,\n",
        " ('Madison Ruby', 2012L, 'female'): 0.095238095238095233,\n",
        " ('Madison Ruby', 2012L, 'male'): 0.90476190476190477,\n",
        " ('Madison Ruby', 2013L, 'female'): 0.375,\n",
        " ('Madison Ruby', 2013L, 'male'): 0.625,\n",
        " ('MagRails', 2011L, 'female'): 0.125,\n",
        " ('MagRails', 2011L, 'male'): 0.875,\n",
        " ('MongoDB', 2012L, 'male'): 1.0,\n",
        " ('Mountain rb', 2010L, 'male'): 1.0,\n",
        " ('MountainWest RubyConf', 2007L, 'male'): 1.0,\n",
        " ('MountainWest RubyConf', 2008L, 'female'): 0.076923076923076927,\n",
        " ('MountainWest RubyConf', 2008L, 'male'): 0.92307692307692313,\n",
        " ('MountainWest RubyConf', 2009L, 'female'): 0.076923076923076927,\n",
        " ('MountainWest RubyConf', 2009L, 'male'): 0.92307692307692313,\n",
        " ('MountainWest RubyConf', 2010L, 'female'): 0.10000000000000001,\n",
        " ('MountainWest RubyConf', 2010L, 'male'): 0.90000000000000002,\n",
        " ('MountainWest RubyConf', 2011L, 'male'): 1.0,\n",
        " ('MountainWest RubyConf', 2012L, 'female'): 0.11764705882352941,\n",
        " ('MountainWest RubyConf', 2012L, 'male'): 0.88235294117647056,\n",
        " ('MountainWest RubyConf', 2013L, 'female'): 0.125,\n",
        " ('MountainWest RubyConf', 2013L, 'male'): 0.875,\n",
        " ('Nickel City Ruby Conference', 2013L, 'female'): 0.20000000000000001,\n",
        " ('Nickel City Ruby Conference', 2013L, 'male'): 0.80000000000000004,\n",
        " ('Northeast Scala Symposium', 2012L, 'male'): 1.0,\n",
        " ('OSCON', 2001L, 'female'): 0.04065040650406504,\n",
        " ('OSCON', 2001L, 'male'): 0.95934959349593496,\n",
        " ('OSCON', 2002L, 'female'): 0.065868263473053898,\n",
        " ('OSCON', 2002L, 'male'): 0.93413173652694614,\n",
        " ('OSCON', 2003L, 'female'): 0.12345679012345678,\n",
        " ('OSCON', 2003L, 'male'): 0.87654320987654322,\n",
        " ('OSCON', 2004L, 'female'): 0.056410256410256411,\n",
        " ('OSCON', 2004L, 'male'): 0.94358974358974357,\n",
        " ('OSCON', 2005L, 'female'): 0.076576576576576572,\n",
        " ('OSCON', 2005L, 'male'): 0.92342342342342343,\n",
        " ('OSCON', 2006L, 'female'): 0.039800995024875621,\n",
        " ('OSCON', 2006L, 'male'): 0.96019900497512434,\n",
        " ('OSCON', 2007L, 'female'): 0.088607594936708861,\n",
        " ('OSCON', 2007L, 'male'): 0.91139240506329111,\n",
        " ('OSCON', 2008L, 'female'): 0.086021505376344093,\n",
        " ('OSCON', 2008L, 'male'): 0.91397849462365588,\n",
        " ('OSCON', 2009L, 'female'): 0.092307692307692313,\n",
        " ('OSCON', 2009L, 'male'): 0.90769230769230769,\n",
        " ('OSCON', 2010L, 'female'): 0.072368421052631582,\n",
        " ('OSCON', 2010L, 'male'): 0.92763157894736847,\n",
        " ('OSCON', 2011L, 'female'): 0.089403973509933773,\n",
        " ('OSCON', 2011L, 'male'): 0.91059602649006621,\n",
        " ('OSCON', 2012L, 'female'): 0.13134328358208955,\n",
        " ('OSCON', 2012L, 'male'): 0.86865671641791042,\n",
        " ('OSCON', 2013L, 'female'): 0.20274914089347079,\n",
        " ('OSCON', 2013L, 'male'): 0.79725085910652926,\n",
        " ('OSCON', 2014L, 'female'): 0.18650793650793651,\n",
        " ('OSCON', 2014L, 'male'): 0.81349206349206349,\n",
        " ('OpenStack On Ales', 2013L, 'male'): 1.0,\n",
        " ('PSF', 2012L, 'female'): 0.084415584415584416,\n",
        " ('PSF', 2012L, 'male'): 0.91558441558441561,\n",
        " ('PSF', 2013L, 'female'): 0.12060301507537688,\n",
        " ('PSF', 2013L, 'male'): 0.87939698492462315,\n",
        " ('Pacific Northwest Scala', 2013L, 'male'): 1.0,\n",
        " ('Pumping Station: One', 2013L, 'male'): 1.0,\n",
        " ('PuppetConf', 2012L, 'female'): 0.063829787234042548,\n",
        " ('PuppetConf', 2012L, 'male'): 0.93617021276595747,\n",
        " ('PyCon AU', 2010L, 'male'): 1.0,\n",
        " ('PyCon AU', 2011L, 'female'): 0.5,\n",
        " ('PyCon AU', 2011L, 'male'): 0.5,\n",
        " ('PyCon AU', 2012L, 'male'): 1.0,\n",
        " ('PyCon AU', 2013L, 'male'): 1.0,\n",
        " ('PyCon Australia', 2013L, 'female'): 0.11904761904761904,\n",
        " ('PyCon Australia', 2013L, 'male'): 0.88095238095238093,\n",
        " ('PyCon CA', 2012L, 'female'): 0.15254237288135594,\n",
        " ('PyCon CA', 2012L, 'male'): 0.84745762711864403,\n",
        " ('PyCon CA', 2013L, 'female'): 0.17777777777777778,\n",
        " ('PyCon CA', 2013L, 'male'): 0.82222222222222219,\n",
        " ('PyCon DE', 2012L, 'female'): 0.018867924528301886,\n",
        " ('PyCon DE', 2012L, 'male'): 0.98113207547169812,\n",
        " ('PyCon DE', 2013L, 'female'): 0.016949152542372881,\n",
        " ('PyCon DE', 2013L, 'male'): 0.98305084745762716,\n",
        " ('PyCon US', 2007L, 'female'): 0.033333333333333333,\n",
        " ('PyCon US', 2007L, 'male'): 0.96666666666666667,\n",
        " ('PyCon US', 2008L, 'female'): 0.035714285714285712,\n",
        " ('PyCon US', 2008L, 'male'): 0.9642857142857143,\n",
        " ('PyCon US', 2009L, 'female'): 0.031746031746031744,\n",
        " ('PyCon US', 2009L, 'male'): 0.96825396825396826,\n",
        " ('PyCon US', 2010L, 'female'): 0.080459770114942528,\n",
        " ('PyCon US', 2010L, 'male'): 0.91954022988505746,\n",
        " ('PyCon US', 2011L, 'female'): 0.01282051282051282,\n",
        " ('PyCon US', 2011L, 'male'): 0.98717948717948723,\n",
        " ('PyCon US', 2012L, 'female'): 0.057142857142857141,\n",
        " ('PyCon US', 2012L, 'male'): 0.94285714285714284,\n",
        " ('PyCon US', 2013L, 'female'): 0.14285714285714285,\n",
        " ('PyCon US', 2013L, 'male'): 0.8571428571428571,\n",
        " ('PyCon US', 2014L, 'female'): 0.26315789473684209,\n",
        " ('PyCon US', 2014L, 'male'): 0.73684210526315785,\n",
        " ('PyGotham', 2011L, 'female'): 0.5,\n",
        " ('PyGotham', 2011L, 'male'): 0.5,\n",
        " ('PyOhio', 2010L, 'male'): 1.0,\n",
        " ('PyOhio', 2011L, 'male'): 1.0,\n",
        " ('PyOhio', 2012L, 'female'): 0.038461538461538464,\n",
        " ('PyOhio', 2012L, 'male'): 0.96153846153846156,\n",
        " ('PyOhio', 2013L, 'female'): 0.096774193548387094,\n",
        " ('PyOhio', 2013L, 'male'): 0.90322580645161288,\n",
        " ('PyTennessee', 2014L, 'female'): 0.25925925925925924,\n",
        " ('PyTennessee', 2014L, 'male'): 0.7407407407407407,\n",
        " ('Pygotham', 2012L, 'female'): 0.15384615384615385,\n",
        " ('Pygotham', 2012L, 'male'): 0.84615384615384615,\n",
        " ('Rails Israel', 2012L, 'male'): 1.0,\n",
        " ('Rails Israel', 2013L, 'female'): 0.083333333333333329,\n",
        " ('Rails Israel', 2013L, 'male'): 0.91666666666666663,\n",
        " ('RailsConf', 2012L, 'female'): 0.032258064516129031,\n",
        " ('RailsConf', 2012L, 'male'): 0.967741935483871,\n",
        " ('RailsConf', 2013L, 'female'): 0.13235294117647059,\n",
        " ('RailsConf', 2013L, 'male'): 0.86764705882352944,\n",
        " ('Rest Fest', 2012L, 'female'): 0.043478260869565216,\n",
        " ('Rest Fest', 2012L, 'male'): 0.95652173913043481,\n",
        " ('Rocky Mountain Ruby', 2011L, 'female'): 0.043478260869565216,\n",
        " ('Rocky Mountain Ruby', 2011L, 'male'): 0.95652173913043481,\n",
        " ('Rocky Mountain Ruby', 2012L, 'female'): 0.041666666666666664,\n",
        " ('Rocky Mountain Ruby', 2012L, 'male'): 0.95833333333333337,\n",
        " ('Rocky Mountain Ruby', 2013L, 'female'): 0.086956521739130432,\n",
        " ('Rocky Mountain Ruby', 2013L, 'male'): 0.91304347826086951,\n",
        " ('Ruby Conf Australia', 2013L, 'female'): 0.14285714285714285,\n",
        " ('Ruby Conf Australia', 2013L, 'male'): 0.8571428571428571,\n",
        " ('Ruby Conference', 2007L, 'female'): 0.032258064516129031,\n",
        " ('Ruby Conference', 2007L, 'male'): 0.967741935483871,\n",
        " ('Ruby Conference', 2008L, 'female'): 0.027027027027027029,\n",
        " ('Ruby Conference', 2008L, 'male'): 0.97297297297297303,\n",
        " ('Ruby Conference', 2009L, 'female'): 0.050000000000000003,\n",
        " ('Ruby Conference', 2009L, 'male'): 0.94999999999999996,\n",
        " ('Ruby Conference', 2010L, 'female'): 0.078125,\n",
        " ('Ruby Conference', 2010L, 'male'): 0.921875,\n",
        " ('Ruby Conference', 2011L, 'female'): 0.050847457627118647,\n",
        " ('Ruby Conference', 2011L, 'male'): 0.94915254237288138,\n",
        " ('Ruby Conference', 2012L, 'female'): 0.11363636363636363,\n",
        " ('Ruby Conference', 2012L, 'male'): 0.88636363636363635,\n",
        " ('Ruby Conference', 2013L, 'female'): 0.14000000000000001,\n",
        " ('Ruby Conference', 2013L, 'male'): 0.85999999999999999,\n",
        " ('Ruby Hoedown', 2007L, 'female'): 0.125,\n",
        " ('Ruby Hoedown', 2007L, 'male'): 0.875,\n",
        " ('Ruby Hoedown', 2008L, 'female'): 0.0625,\n",
        " ('Ruby Hoedown', 2008L, 'male'): 0.9375,\n",
        " ('Ruby Hoedown', 2010L, 'male'): 1.0,\n",
        " ('Ruby Lugdunum (RuLu)', 2012L, 'male'): 1.0,\n",
        " ('Ruby Midwest', 2011L, 'female'): 0.095238095238095233,\n",
        " ('Ruby Midwest', 2011L, 'male'): 0.90476190476190477,\n",
        " ('Ruby Midwest', 2013L, 'female'): 0.1875,\n",
        " ('Ruby Midwest', 2013L, 'male'): 0.8125,\n",
        " ('Ruby Nation', 2012L, 'male'): 1.0,\n",
        " ('Ruby On Ales', 2011L, 'male'): 1.0,\n",
        " ('Ruby On Ales', 2012L, 'female'): 0.16666666666666666,\n",
        " ('Ruby On Ales', 2012L, 'male'): 0.83333333333333337,\n",
        " ('Ruby On Ales', 2013L, 'female'): 0.26666666666666666,\n",
        " ('Ruby On Ales', 2013L, 'male'): 0.73333333333333328,\n",
        " ('RubyConf India', 2012L, 'female'): 0.037037037037037035,\n",
        " ('RubyConf India', 2012L, 'male'): 0.96296296296296291,\n",
        " ('RubyConf India', 2013L, 'male'): 1.0,\n",
        " ('RubyConf Uruguay', 2010L, 'male'): 1.0,\n",
        " ('RubyConf Uruguay', 2013L, 'female'): 0.10526315789473684,\n",
        " ('RubyConf Uruguay', 2013L, 'male'): 0.89473684210526316,\n",
        " ('Ruby|Web Conference', 2010L, 'male'): 1.0,\n",
        " ('SciPy', 2008L, 'male'): 1.0,\n",
        " ('SciPy', 2009L, 'male'): 1.0,\n",
        " ('SciPy', 2010L, 'female'): 0.046153846153846156,\n",
        " ('SciPy', 2010L, 'male'): 0.9538461538461539,\n",
        " ('SciPy', 2011L, 'female'): 0.063492063492063489,\n",
        " ('SciPy', 2011L, 'male'): 0.93650793650793651,\n",
        " ('SciPy', 2012L, 'male'): 1.0,\n",
        " ('SciPy', 2013L, 'female'): 0.10000000000000001,\n",
        " ('SciPy', 2013L, 'male'): 0.90000000000000002,\n",
        " ('Scotland Ruby', 2011L, 'male'): 1.0,\n",
        " ('Steel City Ruby', 2012L, 'female'): 0.125,\n",
        " ('Steel City Ruby', 2012L, 'male'): 0.875,\n",
        " ('Steel City Ruby', 2013L, 'female'): 0.36363636363636365,\n",
        " ('Steel City Ruby', 2013L, 'male'): 0.63636363636363635,\n",
        " ('Sunny Conf', 2010L, 'male'): 1.0,\n",
        " ('The Next Web', 2012L, 'female'): 0.086956521739130432,\n",
        " ('The Next Web', 2012L, 'male'): 0.91304347826086951,\n",
        " ('Troy', 2013L, 'female'): 0.10526315789473684,\n",
        " ('Troy', 2013L, 'male'): 0.89473684210526316,\n",
        " ('Waza', 2012L, 'male'): 1.0,\n",
        " ('Web Directions Code', 2012L, 'female'): 0.14285714285714285,\n",
        " ('Web Directions Code', 2012L, 'male'): 0.8571428571428571,\n",
        " ('Web Directions South', 2012L, 'male'): 1.0,\n",
        " ('Web Rebels', 2012L, 'male'): 1.0,\n",
        " ('Wicked Good Ruby', 2013L, 'female'): 0.16666666666666666,\n",
        " ('Wicked Good Ruby', 2013L, 'male'): 0.83333333333333337,\n",
        " ('Windy City DB', 2010L, 'male'): 1.0,\n",
        " ('Windy City DB', 2011L, 'female'): 0.25,\n",
        " ('Windy City DB', 2011L, 'male'): 0.75,\n",
        " ('Windy City DB', 2012L, 'male'): 1.0,\n",
        " ('Windy City Go', 2011L, 'female'): 0.16666666666666666,\n",
        " ('Windy City Go', 2011L, 'male'): 0.83333333333333337,\n",
        " ('Windy City Go', 2012L, 'female'): 0.25,\n",
        " ('Windy City Go', 2012L, 'male'): 0.75,\n",
        " ('Windy City Rails', 2009L, 'male'): 1.0,\n",
        " ('Windy City Rails', 2010L, 'male'): 1.0,\n",
        " ('Windy City Rails', 2011L, 'male'): 1.0,\n",
        " ('Windy City Rails', 2012L, 'male'): 1.0,\n",
        " ('X.Org Developer Conference', 2012L, 'male'): 1.0,\n",
        " ('confoo.ca', 2010L, 'female'): 0.043956043956043959,\n",
        " ('confoo.ca', 2010L, 'male'): 0.95604395604395609,\n",
        " ('confoo.ca', 2011L, 'female'): 0.019230769230769232,\n",
        " ('confoo.ca', 2011L, 'male'): 0.98076923076923073,\n",
        " ('confoo.ca', 2012L, 'female'): 0.066666666666666666,\n",
        " ('confoo.ca', 2012L, 'male'): 0.93333333333333335,\n",
        " ('confoo.ca', 2013L, 'female'): 0.13186813186813187,\n",
        " ('confoo.ca', 2013L, 'male'): 0.86813186813186816,\n",
        " ('confoo.ca', 2014L, 'female'): 0.13095238095238096,\n",
        " ('confoo.ca', 2014L, 'male'): 0.86904761904761907,\n",
        " ('curtin', 2014L, 'female'): 0.5,\n",
        " ('curtin', 2014L, 'male'): 0.5,\n",
        " ('developerweek.com', 2013L, 'female'): 0.12621359223300971,\n",
        " ('developerweek.com', 2013L, 'male'): 0.87378640776699024,\n",
        " ('developerweek.com', 2014L, 'female'): 0.13953488372093023,\n",
        " ('developerweek.com', 2014L, 'male'): 0.86046511627906974,\n",
        " ('djangocon.eu', 2011L, 'female'): 0.068965517241379309,\n",
        " ('djangocon.eu', 2011L, 'male'): 0.93103448275862066,\n",
        " ('djangocon.eu', 2013L, 'female'): 0.034482758620689655,\n",
        " ('djangocon.eu', 2013L, 'male'): 0.96551724137931039,\n",
        " ('djangocon.eu', 2014L, 'female'): 0.10344827586206896,\n",
        " ('djangocon.eu', 2014L, 'male'): 0.89655172413793105,\n",
        " ('eurUko', 2012L, 'female'): 0.071428571428571425,\n",
        " ('eurUko', 2012L, 'male'): 0.9285714285714286,\n",
        " ('jQuery Conference San Francisco', 2012L, 'female'): 0.083333333333333329,\n",
        " ('jQuery Conference San Francisco', 2012L, 'male'): 0.91666666666666663,\n",
        " ('jQuery Conference UK', 2012L, 'male'): 1.0,\n",
        " ('js.chi();', 2012L, 'male'): 1.0,\n",
        " ('meet.js SUMMIT', 2012L, 'female'): 0.0625,\n",
        " ('meet.js SUMMIT', 2012L, 'male'): 0.9375,\n",
        " ('openstack Summit Portland', 2013L, 'female'): 0.16666666666666666,\n",
        " ('openstack Summit Portland', 2013L, 'male'): 0.83333333333333337,\n",
        " ('openstack summit fall', 2012L, 'female'): 0.094736842105263161,\n",
        " ('openstack summit fall', 2012L, 'male'): 0.90526315789473688,\n",
        " ('railsberry', 2012L, 'female'): 0.10000000000000001,\n",
        " ('railsberry', 2012L, 'male'): 0.90000000000000002,\n",
        " ('rockymtnruby.com', 2010L, 'male'): 1.0,\n",
        " ('rockymtnruby.com', 2011L, 'female'): 0.043478260869565216,\n",
        " ('rockymtnruby.com', 2011L, 'male'): 0.95652173913043481,\n",
        " ('rockymtnruby.com', 2012L, 'female'): 0.17647058823529413,\n",
        " ('rockymtnruby.com', 2012L, 'male'): 0.82352941176470584,\n",
        " ('rockymtnruby.com', 2013L, 'female'): 0.1111111111111111,\n",
        " ('rockymtnruby.com', 2013L, 'male'): 0.88888888888888884,\n",
        " ('strangeloop.com', 2009L, 'male'): 1.0,\n",
        " ('strangeloop.com', 2011L, 'female'): 0.085714285714285715,\n",
        " ('strangeloop.com', 2011L, 'male'): 0.91428571428571426,\n",
        " ('strangeloop.com', 2012L, 'female'): 0.080000000000000002,\n",
        " ('strangeloop.com', 2012L, 'male'): 0.92000000000000004,\n",
        " ('strangeloop.com', 2013L, 'female'): 0.2441860465116279,\n",
        " ('strangeloop.com', 2013L, 'male'): 0.7558139534883721,\n",
        " ('strataconf', 2011L, 'female'): 0.125,\n",
        " ('strataconf', 2011L, 'male'): 0.875,\n",
        " ('strataconf', 2012L, 'female'): 0.16107382550335569,\n",
        " ('strataconf', 2012L, 'male'): 0.83892617449664431,\n",
        " ('strataconf', 2013L, 'female'): 0.17679558011049723,\n",
        " ('strataconf', 2013L, 'male'): 0.82320441988950277}"
       ]
      }
     ],
     "prompt_number": 160
    },
    {
     "cell_type": "markdown",
     "metadata": {},
     "source": [
      "Lets plot a few of them"
     ]
    },
    {
     "cell_type": "code",
     "collapsed": false,
     "input": [
      "conf_data = df[(df.conference == 'Golden Gate Ruby Conference') ]\n",
      "conf_data_year = pd.crosstab(conf_data['year'], conf_data['gender'])\n",
      "conf_data_year.plot(kind = 'bar', stacked  = True, title = 'Golden Gate Ruby Conference')"
     ],
     "language": "python",
     "metadata": {},
     "outputs": [
      {
       "metadata": {},
       "output_type": "pyout",
       "prompt_number": 167,
       "text": [
        "<matplotlib.axes.AxesSubplot at 0xbd4d8ec>"
       ]
      },
      {
       "metadata": {},
       "output_type": "display_data",
       "png": "[encoded data removed]",
       "text": [
        "<matplotlib.figure.Figure at 0xba2af0c>"
       ]
      }
     ],
     "prompt_number": 167
    },
    {
     "cell_type": "code",
     "collapsed": false,
     "input": [
      "conf_data = df[(df.conference == 'strangeloop.com') ]\n",
      "conf_data_year = pd.crosstab(conf_data['year'], conf_data['gender'])\n",
      "conf_data_year.plot(kind = 'bar', stacked  = True, title = 'strangeloop.com')"
     ],
     "language": "python",
     "metadata": {},
     "outputs": [
      {
       "metadata": {},
       "output_type": "pyout",
       "prompt_number": 168,
       "text": [
        "<matplotlib.axes.AxesSubplot at 0xc0dbacc>"
       ]
      },
      {
       "metadata": {},
       "output_type": "display_data",
       "png": "[encoded data removed]",
       "text": [
        "<matplotlib.figure.Figure at 0xbc7bb0c>"
       ]
      }
     ],
     "prompt_number": 168
    },
    {
     "cell_type": "code",
     "collapsed": false,
     "input": [
      "conf_data = df[(df.conference == 'PyCon US') ]\n",
      "conf_data_year = pd.crosstab(conf_data['year'], conf_data['gender'])\n",
      "conf_data_year.plot(kind = 'bar', stacked  = True, title = 'PyCon US')"
     ],
     "language": "python",
     "metadata": {},
     "outputs": [
      {
       "metadata": {},
       "output_type": "pyout",
       "prompt_number": 169,
       "text": [
        "<matplotlib.axes.AxesSubplot at 0xbc7396c>"
       ]
      },
      {
       "metadata": {},
       "output_type": "display_data",
       "png": "[encoded data removed]",
       "text": [
        "<matplotlib.figure.Figure at 0xbc7736c>"
       ]
      }
     ],
     "prompt_number": 169
    },
    {
     "cell_type": "code",
     "collapsed": false,
     "input": [
      "conf_data = df[(df.conference == 'Cascadia Ruby') ]\n",
      "conf_data_year = pd.crosstab(conf_data['year'], conf_data['gender'])\n",
      "conf_data_year.plot(kind = 'bar', stacked  = True, title = 'Cascadia Ruby')"
     ],
     "language": "python",
     "metadata": {},
     "outputs": [
      {
       "metadata": {},
       "output_type": "pyout",
       "prompt_number": 171,
       "text": [
        "<matplotlib.axes.AxesSubplot at 0xc11928c>"
       ]
      },
      {
       "metadata": {},
       "output_type": "display_data",
       "png": "[encoded data removed]",
       "text": [
        "<matplotlib.figure.Figure at 0xbc69aec>"
       ]
      }
     ],
     "prompt_number": 171
    },
    {
     "cell_type": "code",
     "collapsed": false,
     "input": [
      "conf_data = df[(df.conference == 'Farmhouse Conf') ]\n",
      "conf_data_year = pd.crosstab(conf_data['year'], conf_data['gender'])\n",
      "conf_data_year.plot(kind = 'bar', stacked  = True, title = 'Farmhouse Conf')"
     ],
     "language": "python",
     "metadata": {},
     "outputs": [
      {
       "metadata": {},
       "output_type": "pyout",
       "prompt_number": 175,
       "text": [
        "<matplotlib.axes.AxesSubplot at 0xc58396c>"
       ]
      },
      {
       "metadata": {},
       "output_type": "display_data",
       "png": "[encoded data removed]",
       "text": [
        "<matplotlib.figure.Figure at 0xc617e8c>"
       ]
      }
     ],
     "prompt_number": 175
    },
    {
     "cell_type": "markdown",
     "metadata": {},
     "source": [
      "Farmhouse Conf. is the only conference we scrapped that has about the same number of female and male speakers. The conference is not stricktly about coding. Besides the equal balance of female and male speakers was enforced by the rules of the conference"
     ]
    }
   ],
   "metadata": {}
  }
 ]
}